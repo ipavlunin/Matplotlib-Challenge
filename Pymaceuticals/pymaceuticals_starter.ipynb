{
 "cells": [
  {
   "cell_type": "markdown",
   "metadata": {},
   "source": [
    "## Observations and Insights "
   ]
  },
  {
   "cell_type": "markdown",
   "metadata": {},
   "source": []
  },
  {
   "cell_type": "code",
   "execution_count": 1,
   "metadata": {},
   "outputs": [
    {
     "data": {
      "text/html": [
       "<div>\n",
       "<style scoped>\n",
       "    .dataframe tbody tr th:only-of-type {\n",
       "        vertical-align: middle;\n",
       "    }\n",
       "\n",
       "    .dataframe tbody tr th {\n",
       "        vertical-align: top;\n",
       "    }\n",
       "\n",
       "    .dataframe thead th {\n",
       "        text-align: right;\n",
       "    }\n",
       "</style>\n",
       "<table border=\"1\" class=\"dataframe\">\n",
       "  <thead>\n",
       "    <tr style=\"text-align: right;\">\n",
       "      <th></th>\n",
       "      <th>Mouse ID</th>\n",
       "      <th>Drug Regimen</th>\n",
       "      <th>Sex</th>\n",
       "      <th>Age (months)</th>\n",
       "      <th>Weight (g)</th>\n",
       "      <th>Timepoint</th>\n",
       "      <th>Tumor Volume (mm3)</th>\n",
       "      <th>Metastatic Sites</th>\n",
       "    </tr>\n",
       "  </thead>\n",
       "  <tbody>\n",
       "    <tr>\n",
       "      <th>0</th>\n",
       "      <td>k403</td>\n",
       "      <td>Ramicane</td>\n",
       "      <td>Male</td>\n",
       "      <td>21</td>\n",
       "      <td>16</td>\n",
       "      <td>0</td>\n",
       "      <td>45.000000</td>\n",
       "      <td>0</td>\n",
       "    </tr>\n",
       "    <tr>\n",
       "      <th>1</th>\n",
       "      <td>k403</td>\n",
       "      <td>Ramicane</td>\n",
       "      <td>Male</td>\n",
       "      <td>21</td>\n",
       "      <td>16</td>\n",
       "      <td>5</td>\n",
       "      <td>38.825898</td>\n",
       "      <td>0</td>\n",
       "    </tr>\n",
       "    <tr>\n",
       "      <th>2</th>\n",
       "      <td>k403</td>\n",
       "      <td>Ramicane</td>\n",
       "      <td>Male</td>\n",
       "      <td>21</td>\n",
       "      <td>16</td>\n",
       "      <td>10</td>\n",
       "      <td>35.014271</td>\n",
       "      <td>1</td>\n",
       "    </tr>\n",
       "    <tr>\n",
       "      <th>3</th>\n",
       "      <td>k403</td>\n",
       "      <td>Ramicane</td>\n",
       "      <td>Male</td>\n",
       "      <td>21</td>\n",
       "      <td>16</td>\n",
       "      <td>15</td>\n",
       "      <td>34.223992</td>\n",
       "      <td>1</td>\n",
       "    </tr>\n",
       "    <tr>\n",
       "      <th>4</th>\n",
       "      <td>k403</td>\n",
       "      <td>Ramicane</td>\n",
       "      <td>Male</td>\n",
       "      <td>21</td>\n",
       "      <td>16</td>\n",
       "      <td>20</td>\n",
       "      <td>32.997729</td>\n",
       "      <td>1</td>\n",
       "    </tr>\n",
       "  </tbody>\n",
       "</table>\n",
       "</div>"
      ],
      "text/plain": [
       "  Mouse ID Drug Regimen   Sex  Age (months)  Weight (g)  Timepoint  \\\n",
       "0     k403     Ramicane  Male            21          16          0   \n",
       "1     k403     Ramicane  Male            21          16          5   \n",
       "2     k403     Ramicane  Male            21          16         10   \n",
       "3     k403     Ramicane  Male            21          16         15   \n",
       "4     k403     Ramicane  Male            21          16         20   \n",
       "\n",
       "   Tumor Volume (mm3)  Metastatic Sites  \n",
       "0           45.000000                 0  \n",
       "1           38.825898                 0  \n",
       "2           35.014271                 1  \n",
       "3           34.223992                 1  \n",
       "4           32.997729                 1  "
      ]
     },
     "execution_count": 1,
     "metadata": {},
     "output_type": "execute_result"
    }
   ],
   "source": [
    "# Dependencies and Setup\n",
    "import matplotlib.pyplot as plt\n",
    "import pandas as pd\n",
    "import numpy as np\n",
    "import scipy.stats as st\n",
    "\n",
    "# Study data files\n",
    "mouse_metadata_path = \"data/Mouse_metadata.csv\"\n",
    "study_results_path = \"data/Study_results.csv\"\n",
    "\n",
    "# Read the mouse data and the study results\n",
    "mouse_metadata = pd.read_csv(mouse_metadata_path)\n",
    "study_results = pd.read_csv(study_results_path)\n",
    "\n",
    "# Combine the data into a single dataset\n",
    "comb_data = pd.merge(mouse_metadata, study_results, on=\"Mouse ID\", how=\"outer\")\n",
    "comb_data.rename(columns={\"Tumor_Volume_mm3\": \"Tumor Volume (mm3)\", \"Age_months\": \"Age (months)\"}, inplace=True)\n",
    "\n",
    "# Display the data table for preview\n",
    "comb_data.head()"
   ]
  },
  {
   "cell_type": "code",
   "execution_count": 2,
   "metadata": {},
   "outputs": [
    {
     "name": "stdout",
     "output_type": "stream",
     "text": [
      "Total mice number in merged dataframe: 249\n"
     ]
    }
   ],
   "source": [
    "# Checking the number of mice.\n",
    "print(f\"Total mice number in merged dataframe: {len(comb_data['Mouse ID'].value_counts())}\")"
   ]
  },
  {
   "cell_type": "code",
   "execution_count": 3,
   "metadata": {},
   "outputs": [
    {
     "data": {
      "text/plain": [
       "1"
      ]
     },
     "execution_count": 3,
     "metadata": {},
     "output_type": "execute_result"
    }
   ],
   "source": [
    "# Getting the duplicate mice by ID number that shows up for Mouse ID and Timepoint. \n",
    "duplicate_mice = comb_data.loc[comb_data.duplicated(subset=['Mouse ID', 'Timepoint',]),'Mouse ID'].unique()\n",
    "len(duplicate_mice)"
   ]
  },
  {
   "cell_type": "code",
   "execution_count": 4,
   "metadata": {},
   "outputs": [
    {
     "data": {
      "text/html": [
       "<div>\n",
       "<style scoped>\n",
       "    .dataframe tbody tr th:only-of-type {\n",
       "        vertical-align: middle;\n",
       "    }\n",
       "\n",
       "    .dataframe tbody tr th {\n",
       "        vertical-align: top;\n",
       "    }\n",
       "\n",
       "    .dataframe thead th {\n",
       "        text-align: right;\n",
       "    }\n",
       "</style>\n",
       "<table border=\"1\" class=\"dataframe\">\n",
       "  <thead>\n",
       "    <tr style=\"text-align: right;\">\n",
       "      <th></th>\n",
       "      <th>0</th>\n",
       "    </tr>\n",
       "  </thead>\n",
       "  <tbody>\n",
       "    <tr>\n",
       "      <th>0</th>\n",
       "      <td>g989</td>\n",
       "    </tr>\n",
       "  </tbody>\n",
       "</table>\n",
       "</div>"
      ],
      "text/plain": [
       "      0\n",
       "0  g989"
      ]
     },
     "execution_count": 4,
     "metadata": {},
     "output_type": "execute_result"
    }
   ],
   "source": [
    "# Optional: Get all the data for the duplicate mouse ID. \n",
    "duplicate_mouse_id=pd.DataFrame(duplicate_mice)\n",
    "duplicate_mouse_id.head()"
   ]
  },
  {
   "cell_type": "code",
   "execution_count": 5,
   "metadata": {},
   "outputs": [
    {
     "data": {
      "text/html": [
       "<div>\n",
       "<style scoped>\n",
       "    .dataframe tbody tr th:only-of-type {\n",
       "        vertical-align: middle;\n",
       "    }\n",
       "\n",
       "    .dataframe tbody tr th {\n",
       "        vertical-align: top;\n",
       "    }\n",
       "\n",
       "    .dataframe thead th {\n",
       "        text-align: right;\n",
       "    }\n",
       "</style>\n",
       "<table border=\"1\" class=\"dataframe\">\n",
       "  <thead>\n",
       "    <tr style=\"text-align: right;\">\n",
       "      <th></th>\n",
       "      <th>Mouse ID</th>\n",
       "      <th>Drug Regimen</th>\n",
       "      <th>Sex</th>\n",
       "      <th>Age (months)</th>\n",
       "      <th>Weight (g)</th>\n",
       "      <th>Timepoint</th>\n",
       "      <th>Tumor Volume (mm3)</th>\n",
       "      <th>Metastatic Sites</th>\n",
       "    </tr>\n",
       "  </thead>\n",
       "  <tbody>\n",
       "    <tr>\n",
       "      <th>0</th>\n",
       "      <td>k403</td>\n",
       "      <td>Ramicane</td>\n",
       "      <td>Male</td>\n",
       "      <td>21</td>\n",
       "      <td>16</td>\n",
       "      <td>0</td>\n",
       "      <td>45.000000</td>\n",
       "      <td>0</td>\n",
       "    </tr>\n",
       "    <tr>\n",
       "      <th>1</th>\n",
       "      <td>k403</td>\n",
       "      <td>Ramicane</td>\n",
       "      <td>Male</td>\n",
       "      <td>21</td>\n",
       "      <td>16</td>\n",
       "      <td>5</td>\n",
       "      <td>38.825898</td>\n",
       "      <td>0</td>\n",
       "    </tr>\n",
       "    <tr>\n",
       "      <th>2</th>\n",
       "      <td>k403</td>\n",
       "      <td>Ramicane</td>\n",
       "      <td>Male</td>\n",
       "      <td>21</td>\n",
       "      <td>16</td>\n",
       "      <td>10</td>\n",
       "      <td>35.014271</td>\n",
       "      <td>1</td>\n",
       "    </tr>\n",
       "    <tr>\n",
       "      <th>3</th>\n",
       "      <td>k403</td>\n",
       "      <td>Ramicane</td>\n",
       "      <td>Male</td>\n",
       "      <td>21</td>\n",
       "      <td>16</td>\n",
       "      <td>15</td>\n",
       "      <td>34.223992</td>\n",
       "      <td>1</td>\n",
       "    </tr>\n",
       "    <tr>\n",
       "      <th>4</th>\n",
       "      <td>k403</td>\n",
       "      <td>Ramicane</td>\n",
       "      <td>Male</td>\n",
       "      <td>21</td>\n",
       "      <td>16</td>\n",
       "      <td>20</td>\n",
       "      <td>32.997729</td>\n",
       "      <td>1</td>\n",
       "    </tr>\n",
       "  </tbody>\n",
       "</table>\n",
       "</div>"
      ],
      "text/plain": [
       "  Mouse ID Drug Regimen   Sex  Age (months)  Weight (g)  Timepoint  \\\n",
       "0     k403     Ramicane  Male            21          16          0   \n",
       "1     k403     Ramicane  Male            21          16          5   \n",
       "2     k403     Ramicane  Male            21          16         10   \n",
       "3     k403     Ramicane  Male            21          16         15   \n",
       "4     k403     Ramicane  Male            21          16         20   \n",
       "\n",
       "   Tumor Volume (mm3)  Metastatic Sites  \n",
       "0           45.000000                 0  \n",
       "1           38.825898                 0  \n",
       "2           35.014271                 1  \n",
       "3           34.223992                 1  \n",
       "4           32.997729                 1  "
      ]
     },
     "execution_count": 5,
     "metadata": {},
     "output_type": "execute_result"
    }
   ],
   "source": [
    "# Create a clean DataFrame by dropping the duplicate mouse by its ID.\n",
    "clean_mice = comb_data[comb_data['Mouse ID'].isin(duplicate_mice)==False]\n",
    "clean_mice.head()"
   ]
  },
  {
   "cell_type": "code",
   "execution_count": 6,
   "metadata": {},
   "outputs": [
    {
     "name": "stdout",
     "output_type": "stream",
     "text": [
      "Total mice number in cleaned dataframe: 248\n"
     ]
    }
   ],
   "source": [
    "# Checking the number of mice in the clean DataFrame.\n",
    "print(f\"Total mice number in cleaned dataframe: {len(clean_mice['Mouse ID'].value_counts())}\")"
   ]
  },
  {
   "cell_type": "markdown",
   "metadata": {},
   "source": [
    "## Summary Statistics"
   ]
  },
  {
   "cell_type": "code",
   "execution_count": 7,
   "metadata": {},
   "outputs": [
    {
     "data": {
      "text/html": [
       "<div>\n",
       "<style scoped>\n",
       "    .dataframe tbody tr th:only-of-type {\n",
       "        vertical-align: middle;\n",
       "    }\n",
       "\n",
       "    .dataframe tbody tr th {\n",
       "        vertical-align: top;\n",
       "    }\n",
       "\n",
       "    .dataframe thead th {\n",
       "        text-align: right;\n",
       "    }\n",
       "</style>\n",
       "<table border=\"1\" class=\"dataframe\">\n",
       "  <thead>\n",
       "    <tr style=\"text-align: right;\">\n",
       "      <th></th>\n",
       "      <th>Tumor Volume Mean (mm3)</th>\n",
       "      <th>Tumor Volume Med (mm3)</th>\n",
       "      <th>Tumor Volume Var (mm3)</th>\n",
       "      <th>Tumor Volume Std Dev (mm3)</th>\n",
       "      <th>Tumor Volume SEM (mm3)</th>\n",
       "    </tr>\n",
       "    <tr>\n",
       "      <th>Drug Regimen</th>\n",
       "      <th></th>\n",
       "      <th></th>\n",
       "      <th></th>\n",
       "      <th></th>\n",
       "      <th></th>\n",
       "    </tr>\n",
       "  </thead>\n",
       "  <tbody>\n",
       "    <tr>\n",
       "      <th>Ramicane</th>\n",
       "      <td>40.216745</td>\n",
       "      <td>40.673236</td>\n",
       "      <td>23.486704</td>\n",
       "      <td>4.846308</td>\n",
       "      <td>0.320955</td>\n",
       "    </tr>\n",
       "    <tr>\n",
       "      <th>Capomulin</th>\n",
       "      <td>40.675741</td>\n",
       "      <td>41.557809</td>\n",
       "      <td>24.947764</td>\n",
       "      <td>4.994774</td>\n",
       "      <td>0.329346</td>\n",
       "    </tr>\n",
       "    <tr>\n",
       "      <th>Propriva</th>\n",
       "      <td>52.320930</td>\n",
       "      <td>50.446266</td>\n",
       "      <td>43.852013</td>\n",
       "      <td>6.622085</td>\n",
       "      <td>0.544332</td>\n",
       "    </tr>\n",
       "    <tr>\n",
       "      <th>Ceftamin</th>\n",
       "      <td>52.591172</td>\n",
       "      <td>51.776157</td>\n",
       "      <td>39.290177</td>\n",
       "      <td>6.268188</td>\n",
       "      <td>0.469821</td>\n",
       "    </tr>\n",
       "    <tr>\n",
       "      <th>Infubinol</th>\n",
       "      <td>52.884795</td>\n",
       "      <td>51.820584</td>\n",
       "      <td>43.128684</td>\n",
       "      <td>6.567243</td>\n",
       "      <td>0.492236</td>\n",
       "    </tr>\n",
       "    <tr>\n",
       "      <th>Zoniferol</th>\n",
       "      <td>53.236507</td>\n",
       "      <td>51.818479</td>\n",
       "      <td>48.533355</td>\n",
       "      <td>6.966589</td>\n",
       "      <td>0.516398</td>\n",
       "    </tr>\n",
       "    <tr>\n",
       "      <th>Placebo</th>\n",
       "      <td>54.033581</td>\n",
       "      <td>52.288934</td>\n",
       "      <td>61.168083</td>\n",
       "      <td>7.821003</td>\n",
       "      <td>0.581331</td>\n",
       "    </tr>\n",
       "    <tr>\n",
       "      <th>Stelasyn</th>\n",
       "      <td>54.233149</td>\n",
       "      <td>52.431737</td>\n",
       "      <td>59.450562</td>\n",
       "      <td>7.710419</td>\n",
       "      <td>0.573111</td>\n",
       "    </tr>\n",
       "    <tr>\n",
       "      <th>Naftisol</th>\n",
       "      <td>54.331565</td>\n",
       "      <td>52.509285</td>\n",
       "      <td>66.173479</td>\n",
       "      <td>8.134708</td>\n",
       "      <td>0.596466</td>\n",
       "    </tr>\n",
       "    <tr>\n",
       "      <th>Ketapril</th>\n",
       "      <td>55.235638</td>\n",
       "      <td>53.698743</td>\n",
       "      <td>68.553577</td>\n",
       "      <td>8.279709</td>\n",
       "      <td>0.603860</td>\n",
       "    </tr>\n",
       "  </tbody>\n",
       "</table>\n",
       "</div>"
      ],
      "text/plain": [
       "              Tumor Volume Mean (mm3)  Tumor Volume Med (mm3)  \\\n",
       "Drug Regimen                                                    \n",
       "Ramicane                    40.216745               40.673236   \n",
       "Capomulin                   40.675741               41.557809   \n",
       "Propriva                    52.320930               50.446266   \n",
       "Ceftamin                    52.591172               51.776157   \n",
       "Infubinol                   52.884795               51.820584   \n",
       "Zoniferol                   53.236507               51.818479   \n",
       "Placebo                     54.033581               52.288934   \n",
       "Stelasyn                    54.233149               52.431737   \n",
       "Naftisol                    54.331565               52.509285   \n",
       "Ketapril                    55.235638               53.698743   \n",
       "\n",
       "              Tumor Volume Var (mm3)  Tumor Volume Std Dev (mm3)  \\\n",
       "Drug Regimen                                                       \n",
       "Ramicane                   23.486704                    4.846308   \n",
       "Capomulin                  24.947764                    4.994774   \n",
       "Propriva                   43.852013                    6.622085   \n",
       "Ceftamin                   39.290177                    6.268188   \n",
       "Infubinol                  43.128684                    6.567243   \n",
       "Zoniferol                  48.533355                    6.966589   \n",
       "Placebo                    61.168083                    7.821003   \n",
       "Stelasyn                   59.450562                    7.710419   \n",
       "Naftisol                   66.173479                    8.134708   \n",
       "Ketapril                   68.553577                    8.279709   \n",
       "\n",
       "              Tumor Volume SEM (mm3)  \n",
       "Drug Regimen                          \n",
       "Ramicane                    0.320955  \n",
       "Capomulin                   0.329346  \n",
       "Propriva                    0.544332  \n",
       "Ceftamin                    0.469821  \n",
       "Infubinol                   0.492236  \n",
       "Zoniferol                   0.516398  \n",
       "Placebo                     0.581331  \n",
       "Stelasyn                    0.573111  \n",
       "Naftisol                    0.596466  \n",
       "Ketapril                    0.603860  "
      ]
     },
     "execution_count": 7,
     "metadata": {},
     "output_type": "execute_result"
    }
   ],
   "source": [
    "# Generate a summary statistics table of mean, median, variance, standard deviation, and SEM of the tumor volume for each regimen\n",
    "\n",
    "# This method is the most straighforward, creating multiple series and putting them all together at the end.\n",
    "\n",
    "regimen_mean = clean_mice.groupby('Drug Regimen').mean()[\"Tumor Volume (mm3)\"]\n",
    "regimen_med = clean_mice.groupby('Drug Regimen').median()[\"Tumor Volume (mm3)\"]\n",
    "regimen_var = clean_mice.groupby('Drug Regimen').var()[\"Tumor Volume (mm3)\"]\n",
    "regimen_std = clean_mice.groupby('Drug Regimen').std()[\"Tumor Volume (mm3)\"]\n",
    "regimen_sem = clean_mice.groupby('Drug Regimen').sem()[\"Tumor Volume (mm3)\"]\n",
    "\n",
    "sum_stats_table = pd.DataFrame({\"Tumor Volume Mean (mm3)\": regimen_mean, \n",
    "                                    \"Tumor Volume Med (mm3)\":regimen_med, \n",
    "                                    \"Tumor Volume Var (mm3)\":regimen_var, \n",
    "                                    \"Tumor Volume Std Dev (mm3)\": regimen_std, \n",
    "                                    \"Tumor Volume SEM (mm3)\": regimen_sem})\n",
    "\n",
    "sum_stats_table = sum_stats_table.sort_values(by=\"Tumor Volume Mean (mm3)\", ascending=True)\n",
    "sum_stats_table"
   ]
  },
  {
   "cell_type": "markdown",
   "metadata": {},
   "source": [
    "## Bar and Pie Charts"
   ]
  },
  {
   "cell_type": "code",
   "execution_count": 15,
   "metadata": {},
   "outputs": [
    {
     "data": {
      "image/png": "[encoded data removed]",
      "text/plain": [
       "<Figure size 720x360 with 1 Axes>"
      ]
     },
     "metadata": {
      "needs_background": "light"
     },
     "output_type": "display_data"
    }
   ],
   "source": [
    "# Generate a bar plot showing the total number of mice for each treatment throughout the course of the study using pandas. \n",
    "data_points = clean_mice['Drug Regimen'].value_counts()\n",
    "data = pd.DataFrame(data_points)\n",
    "data = data.reset_index(drop=False)\n",
    "data = data.sort_values(by=\"Drug Regimen\", ascending=True)\n",
    "\n",
    "x_axis= 'index'\n",
    "y_axis = 'Drug Regimen'\n",
    "pandas_bar = data.plot.barh(x_axis, y_axis, xlim=(0,240), ylim=(0,10), color='green', alpha=0.75, \n",
    "                            figsize = (10,5), width = 0.75, stacked=True)\n",
    "pandas_bar.set_title(\"Mice per Treatment\", fontsize = 20)\n",
    "pandas_bar.set_ylabel(\"Drug Regimen\", fontsize = 14)\n",
    "pandas_bar.set_xlabel(\"Mice Number\", fontsize = 14)\n",
    "pandas_bar.grid(True, linestyle='-', which='major', color='grey', alpha=.5)\n"
   ]
  },
  {
   "cell_type": "code",
   "execution_count": 16,
   "metadata": {},
   "outputs": [
    {
     "data": {
      "image/png": "[encoded data removed]",
      "text/plain": [
       "<Figure size 720x360 with 1 Axes>"
      ]
     },
     "metadata": {
      "needs_background": "light"
     },
     "output_type": "display_data"
    }
   ],
   "source": [
    "# Generate a bar plot showing the total number of mice for each treatment throughout the course of the study using pyplot.\n",
    "x_axis= np.arange(len(data))\n",
    "y_axis = data[\"Drug Regimen\"]\n",
    "plt.figure(figsize=(10,5))\n",
    "bar_chart = plt.barh(x_axis, y_axis, color = 'green', alpha=0.75, align='center', label='Drug Regimen') \n",
    "plt.xlim(0,240)\n",
    "plt.ylim(-0.75,9.75)\n",
    "\n",
    "plt.title('Mice per Treatment', fontsize = 20)\n",
    "plt.xlabel(\"Mice Number\", fontsize = 14)\n",
    "plt.ylabel(\"Drug Regimen\", fontsize = 14)\n",
    "plt.legend(loc='best')\n",
    "\n",
    "tick_locations = [value for value in x_axis]\n",
    "plt.yticks(tick_locations, data[\"index\"], rotation=\"horizontal\")\n",
    "plt.grid(True, linestyle='-', which='major',\n",
    "                   color='grey', alpha=.5)\n",
    "plt.show()"
   ]
  },
  {
   "cell_type": "code",
   "execution_count": 10,
   "metadata": {},
   "outputs": [
    {
     "data": {
      "text/plain": [
       "Text(0, 0.5, 'Sex')"
      ]
     },
     "execution_count": 10,
     "metadata": {},
     "output_type": "execute_result"
    },
    {
     "data": {
      "image/png": "[encoded data removed]",
      "text/plain": [
       "<Figure size 432x432 with 1 Axes>"
      ]
     },
     "metadata": {},
     "output_type": "display_data"
    }
   ],
   "source": [
    "# Generate a pie plot showing the distribution of female versus male mice using pandas\n",
    "male = (len(clean_mice.loc[clean_mice[\"Sex\"] == \"Male\",:])/len(clean_mice[\"Sex\"]))*100\n",
    "female = (len(clean_mice.loc[clean_mice[\"Sex\"] == \"Female\",:])/len(clean_mice[\"Sex\"]))*100\n",
    "gender_df = pd.DataFrame({\"Sex\": [male, female], \"Mice\":[\"Male\", \"Female\"]})\n",
    "gender_df = gender_df.set_index('Mice')\n",
    "\n",
    "plot = gender_df.plot.pie(y=\"Sex\", figsize =(6, 6), explode=(0.05,0), colors = 'br', autopct='%1.1f%%',\n",
    "                          startangle = 30)\n",
    "\n",
    "plt.title('Gender Distribution',fontsize = 20)\n",
    "plt.ylabel('Sex',fontsize = 14)\n"
   ]
  },
  {
   "cell_type": "code",
   "execution_count": 11,
   "metadata": {},
   "outputs": [
    {
     "data": {
      "text/plain": [
       "Text(0, 0.5, 'Sex')"
      ]
     },
     "execution_count": 11,
     "metadata": {},
     "output_type": "execute_result"
    },
    {
     "data": {
      "image/png": "[encoded data removed]",
      "text/plain": [
       "<Figure size 432x432 with 1 Axes>"
      ]
     },
     "metadata": {},
     "output_type": "display_data"
    }
   ],
   "source": [
    "# Generate a pie plot showing the distribution of female versus male mice using pyplot\n",
    "male = (len(clean_mice.loc[clean_mice[\"Sex\"] == \"Male\",:])/len(clean_mice[\"Sex\"]))*100\n",
    "female = (len(clean_mice.loc[clean_mice[\"Sex\"] == \"Female\",:])/len(clean_mice[\"Sex\"]))*100\n",
    "gender_df = pd.DataFrame({\"Sex\": [male, female], \"Mice\":[\"Male\", \"Female\"]})\n",
    "gender_df = gender_df.set_index('Mice')\n",
    "\n",
    "labels = [\"Male\",\"Female\"]\n",
    "sizes = [male,female]\n",
    "colors = ['blue', 'red']\n",
    "explode = (0.05, 0)\n",
    "fig1, ax1 = plt.subplots(figsize=(6, 6))\n",
    "plt.pie(sizes, explode=explode,labels=labels, colors=colors, autopct=\"%1.1f%%\", shadow=True, startangle=30,)\n",
    "plt.title('Gender Distribution',fontsize = 20)\n",
    "plt.ylabel('Sex',fontsize = 14)"
   ]
  },
  {
   "cell_type": "markdown",
   "metadata": {},
   "source": [
    "## Quartiles, Outliers and Boxplots"
   ]
  },
  {
   "cell_type": "code",
   "execution_count": 12,
   "metadata": {},
   "outputs": [
    {
     "name": "stdout",
     "output_type": "stream",
     "text": [
      "There is(are) 0 outlier(s) in Campomulin and here is a list: []\n",
      "There is(are) 0 outlier(s) in Ramicane and here is a list: []\n",
      "There is(are) 1 outlier(s) in Infubinol and here is a list: [36.321345799999996]\n",
      "There is(are) 0 outlier(s) in Ceftamin and here is a list: []\n"
     ]
    },
    {
     "data": {
      "text/html": [
       "<div>\n",
       "<style scoped>\n",
       "    .dataframe tbody tr th:only-of-type {\n",
       "        vertical-align: middle;\n",
       "    }\n",
       "\n",
       "    .dataframe tbody tr th {\n",
       "        vertical-align: top;\n",
       "    }\n",
       "\n",
       "    .dataframe thead th {\n",
       "        text-align: right;\n",
       "    }\n",
       "</style>\n",
       "<table border=\"1\" class=\"dataframe\">\n",
       "  <thead>\n",
       "    <tr style=\"text-align: right;\">\n",
       "      <th></th>\n",
       "      <th></th>\n",
       "      <th>Tumor Volume (mm3)</th>\n",
       "    </tr>\n",
       "    <tr>\n",
       "      <th>Drug Regimen</th>\n",
       "      <th>Mouse ID</th>\n",
       "      <th></th>\n",
       "    </tr>\n",
       "  </thead>\n",
       "  <tbody>\n",
       "    <tr>\n",
       "      <th rowspan=\"5\" valign=\"top\">Capomulin</th>\n",
       "      <th>g316</th>\n",
       "      <td>40.159220</td>\n",
       "    </tr>\n",
       "    <tr>\n",
       "      <th>s710</th>\n",
       "      <td>40.728578</td>\n",
       "    </tr>\n",
       "    <tr>\n",
       "      <th>t565</th>\n",
       "      <td>34.455298</td>\n",
       "    </tr>\n",
       "    <tr>\n",
       "      <th>r944</th>\n",
       "      <td>41.581521</td>\n",
       "    </tr>\n",
       "    <tr>\n",
       "      <th>r554</th>\n",
       "      <td>32.377357</td>\n",
       "    </tr>\n",
       "    <tr>\n",
       "      <th>...</th>\n",
       "      <th>...</th>\n",
       "      <td>...</td>\n",
       "    </tr>\n",
       "    <tr>\n",
       "      <th rowspan=\"5\" valign=\"top\">Zoniferol</th>\n",
       "      <th>w575</th>\n",
       "      <td>68.401286</td>\n",
       "    </tr>\n",
       "    <tr>\n",
       "      <th>c302</th>\n",
       "      <td>64.575222</td>\n",
       "    </tr>\n",
       "    <tr>\n",
       "      <th>c264</th>\n",
       "      <td>67.942121</td>\n",
       "    </tr>\n",
       "    <tr>\n",
       "      <th>q511</th>\n",
       "      <td>68.611061</td>\n",
       "    </tr>\n",
       "    <tr>\n",
       "      <th>a788</th>\n",
       "      <td>60.413709</td>\n",
       "    </tr>\n",
       "  </tbody>\n",
       "</table>\n",
       "<p>248 rows × 1 columns</p>\n",
       "</div>"
      ],
      "text/plain": [
       "                       Tumor Volume (mm3)\n",
       "Drug Regimen Mouse ID                    \n",
       "Capomulin    g316               40.159220\n",
       "             s710               40.728578\n",
       "             t565               34.455298\n",
       "             r944               41.581521\n",
       "             r554               32.377357\n",
       "...                                   ...\n",
       "Zoniferol    w575               68.401286\n",
       "             c302               64.575222\n",
       "             c264               67.942121\n",
       "             q511               68.611061\n",
       "             a788               60.413709\n",
       "\n",
       "[248 rows x 1 columns]"
      ]
     },
     "execution_count": 12,
     "metadata": {},
     "output_type": "execute_result"
    }
   ],
   "source": [
    "# Calculate the final tumor volume of each mouse across four of the treatment regimens: Capomulin, Ramicane, Infubinol, and Ceftamin\n",
    "\n",
    "regimen_treatment=clean_mice[[\"Mouse ID\",\"Drug Regimen\",\"Tumor Volume (mm3)\"]]\\\n",
    "                             .groupby([\"Mouse ID\", \"Drug Regimen\" ]).last()\\\n",
    "                             .sort_values(by = \"Drug Regimen\", ascending = True).reset_index()\n",
    "regimen_treatment.set_index([\"Drug Regimen\", \"Mouse ID\"], inplace =True)\n",
    "\n",
    "capomulin = regimen_treatment.loc['Capomulin'][\"Tumor Volume (mm3)\"]\n",
    "quartiles_capomulin = capomulin.quantile([.25,.5,.75])\n",
    "lower_capomulin = quartiles_capomulin[.25]\n",
    "upper_capomulin = quartiles_capomulin[.75]\n",
    "iqr_capomulin = upper_capomulin-lower_capomulin\n",
    "capomulin_outliers = []\n",
    "for value in capomulin:\n",
    "    if value > upper_capomulin + 1.5*iqr_capomulin:\n",
    "        capomulin_outliers.append(value)\n",
    "    elif value < lower_capomulin - 1.5*iqr_capomulin:\n",
    "        capomulin_outliers.append(value)\n",
    "print(f\"There is(are) \" + str(len(capomulin_outliers)) + \" outlier(s) in Campomulin and here is a list: \" + \n",
    "      str(capomulin_outliers))\n",
    "    \n",
    "ramicane = regimen_treatment.loc['Ramicane'][\"Tumor Volume (mm3)\"]\n",
    "quartiles_ramicane = ramicane.quantile([.25,.5,.75])\n",
    "lower_ramicane = quartiles_ramicane[.25]\n",
    "upper_ramicane = quartiles_ramicane[.75]\n",
    "iqr_ramicane = upper_ramicane-lower_ramicane\n",
    "ramicane_outliers = []\n",
    "for value in ramicane:\n",
    "    if value > upper_ramicane + 1.5*iqr_ramicane:\n",
    "        ramicane_outliers.append(value)\n",
    "    elif value < lower_ramicane - 1.5*iqr_ramicane:\n",
    "        ramicane_outliers.append(value)\n",
    "print(f\"There is(are) \" + str(len(ramicane_outliers)) + \" outlier(s) in Ramicane and here is a list: \" + \n",
    "      str(ramicane_outliers))\n",
    "\n",
    "infubinol = regimen_treatment.loc['Infubinol'][\"Tumor Volume (mm3)\"]\n",
    "quartiles_infubinol = infubinol.quantile([.25,.5,.75])\n",
    "lower_infubinol = quartiles_infubinol[.25]\n",
    "upper_infubinol = quartiles_infubinol[.75]\n",
    "iqr_infubinol = upper_infubinol-lower_infubinol\n",
    "infubinol_outliers = []\n",
    "for value in infubinol:\n",
    "    if value > upper_infubinol + 1.5*iqr_infubinol:\n",
    "        infubinol_outliers.append(value)\n",
    "    elif value < lower_infubinol - 1.5*iqr_infubinol:\n",
    "        infubinol_outliers.append(value)\n",
    "print(f\"There is(are) \" + str(len(infubinol_outliers)) + \" outlier(s) in Infubinol and here is a list: \" + \n",
    "      str(infubinol_outliers))\n",
    "\n",
    "\n",
    "ceftamin = regimen_treatment.loc['Ceftamin'][\"Tumor Volume (mm3)\"]\n",
    "quartiles_ceftamin = ceftamin.quantile([.25,.5,.75])\n",
    "lower_ceftamin = quartiles_ceftamin[.25]\n",
    "upper_ceftamin = quartiles_ceftamin[.75]\n",
    "iqr_ceftamin = upper_ceftamin-lower_ceftamin\n",
    "ceftamin_outliers = []\n",
    "for value in ceftamin:\n",
    "    if value > upper_ceftamin + 1.5*iqr_ceftamin:\n",
    "        ceftamin_outliers.append(value)\n",
    "    elif value < lower_ceftamin - 1.5*iqr_ceftamin:\n",
    "        ceftamin_outliers.append(value)\n",
    "print(f\"There is(are) \" + str(len(ceftamin_outliers)) + \" outlier(s) in Ceftamin and here is a list: \" + \n",
    "      str(ceftamin_outliers))\n",
    "\n",
    "regimen_treatment"
   ]
  },
  {
   "cell_type": "code",
   "execution_count": 13,
   "metadata": {},
   "outputs": [
    {
     "data": {
      "text/plain": [
       "(10.0, 80.0)"
      ]
     },
     "execution_count": 13,
     "metadata": {},
     "output_type": "execute_result"
    },
    {
     "data": {
      "image/png": "[encoded data removed]",
      "text/plain": [
       "<Figure size 720x360 with 1 Axes>"
      ]
     },
     "metadata": {
      "needs_background": "light"
     },
     "output_type": "display_data"
    }
   ],
   "source": [
    "# Generate a box plot of the final tumor volume of each mouse across four regimens of interest\n",
    "\n",
    "data_to_plot = [capomulin, ramicane, infubinol, ceftamin]\n",
    "Regimen = ['Capomulin', 'Ramicane', 'Infubinol','Ceftamin']\n",
    "fig1, ax1 = plt.subplots(figsize=(10, 5))\n",
    "ax1.set_title('Treatment Results on Box Plot',fontsize =20)\n",
    "ax1.set_ylabel('Final Tumor Volume (mm3)',fontsize = 14)\n",
    "ax1.set_xlabel('Drug Regimen',fontsize =14)\n",
    "ax1.boxplot(data_to_plot, labels=Regimen, widths = 0.4, patch_artist=True,vert=True)\n",
    "plt.ylim(10, 80)"
   ]
  },
  {
   "cell_type": "markdown",
   "metadata": {},
   "source": [
    "## Line and Scatter Plots"
   ]
  },
  {
   "cell_type": "code",
   "execution_count": 14,
   "metadata": {},
   "outputs": [
    {
     "data": {
      "text/html": [
       "<div>\n",
       "<style scoped>\n",
       "    .dataframe tbody tr th:only-of-type {\n",
       "        vertical-align: middle;\n",
       "    }\n",
       "\n",
       "    .dataframe tbody tr th {\n",
       "        vertical-align: top;\n",
       "    }\n",
       "\n",
       "    .dataframe thead th {\n",
       "        text-align: right;\n",
       "    }\n",
       "</style>\n",
       "<table border=\"1\" class=\"dataframe\">\n",
       "  <thead>\n",
       "    <tr style=\"text-align: right;\">\n",
       "      <th></th>\n",
       "      <th>Timepoint</th>\n",
       "      <th>Mouse ID</th>\n",
       "      <th>Tumor Volume (mm3)</th>\n",
       "    </tr>\n",
       "    <tr>\n",
       "      <th>Drug Regimen</th>\n",
       "      <th></th>\n",
       "      <th></th>\n",
       "      <th></th>\n",
       "    </tr>\n",
       "  </thead>\n",
       "  <tbody>\n",
       "    <tr>\n",
       "      <th>Capomulin</th>\n",
       "      <td>0</td>\n",
       "      <td>b128</td>\n",
       "      <td>45.000000</td>\n",
       "    </tr>\n",
       "    <tr>\n",
       "      <th>Capomulin</th>\n",
       "      <td>5</td>\n",
       "      <td>b128</td>\n",
       "      <td>45.651331</td>\n",
       "    </tr>\n",
       "    <tr>\n",
       "      <th>Capomulin</th>\n",
       "      <td>10</td>\n",
       "      <td>b128</td>\n",
       "      <td>43.270852</td>\n",
       "    </tr>\n",
       "    <tr>\n",
       "      <th>Capomulin</th>\n",
       "      <td>15</td>\n",
       "      <td>b128</td>\n",
       "      <td>43.784893</td>\n",
       "    </tr>\n",
       "    <tr>\n",
       "      <th>Capomulin</th>\n",
       "      <td>20</td>\n",
       "      <td>b128</td>\n",
       "      <td>42.731552</td>\n",
       "    </tr>\n",
       "  </tbody>\n",
       "</table>\n",
       "</div>"
      ],
      "text/plain": [
       "              Timepoint Mouse ID  Tumor Volume (mm3)\n",
       "Drug Regimen                                        \n",
       "Capomulin             0     b128           45.000000\n",
       "Capomulin             5     b128           45.651331\n",
       "Capomulin            10     b128           43.270852\n",
       "Capomulin            15     b128           43.784893\n",
       "Capomulin            20     b128           42.731552"
      ]
     },
     "execution_count": 14,
     "metadata": {},
     "output_type": "execute_result"
    },
    {
     "data": {
      "image/png": "[encoded data removed]",
      "text/plain": [
       "<Figure size 720x360 with 1 Axes>"
      ]
     },
     "metadata": {
      "needs_background": "light"
     },
     "output_type": "display_data"
    }
   ],
   "source": [
    "# Generate a line plot of time point versus tumor volume for a mouse treated with Capomulin\n",
    "capomulin_data =clean_mice[[\"Drug Regimen\",\"Timepoint\", \"Mouse ID\",\"Tumor Volume (mm3)\"]]\n",
    "capomulin_data.set_index([\"Drug Regimen\"], inplace =True)\n",
    "capomulin_dat = capomulin_data.loc[\"Capomulin\", :]\n",
    "capomulin_dat = capomulin_dat.sort_values(by=\"Mouse ID\", ascending = True)\n",
    "capomulin_dat = capomulin_dat.head(10)\n",
    "capomulin_dat = capomulin_dat.sort_values(by=\"Timepoint\", ascending = True)\n",
    "\n",
    "line = capomulin_dat.plot.line(x=\"Timepoint\", y=\"Tumor Volume (mm3)\", xlim=(-1,46), ylim=(37,46),color=\"green\", \n",
    "                               figsize = (10,5), fontsize = 14, grid=True)\n",
    "line.set_ylabel(\"Tumor Volume\", fontsize = 14)\n",
    "line.set_xlabel(\"Timepoint\", fontsize = 14)\n",
    "line.set_title(' Results for b128 by Capomulin Regimen', fontsize=20)\n",
    "\n",
    "capomulin_dat.head()"
   ]
  },
  {
   "cell_type": "code",
   "execution_count": 17,
   "metadata": {},
   "outputs": [],
   "source": [
    "# Generate a scatter plot of mouse weight versus average tumor volume for the Capomulin regimen\n"
   ]
  },
  {
   "cell_type": "markdown",
   "metadata": {},
   "source": [
    "## Correlation and Regression"
   ]
  },
  {
   "cell_type": "code",
   "execution_count": 18,
   "metadata": {},
   "outputs": [],
   "source": [
    "# Calculate the correlation coefficient and linear regression model \n",
    "# for mouse weight and average tumor volume for the Capomulin regimen\n"
   ]
  },
  {
   "cell_type": "code",
   "execution_count": null,
   "metadata": {},
   "outputs": [],
   "source": []
  }
 ],
 "metadata": {
  "anaconda-cloud": {},
  "kernelspec": {
   "display_name": "Python 3",
   "language": "python",
   "name": "python3"
  },
  "language_info": {
   "codemirror_mode": {
    "name": "ipython",
    "version": 3
   },
   "file_extension": ".py",
   "mimetype": "text/x-python",
   "name": "python",
   "nbconvert_exporter": "python",
   "pygments_lexer": "ipython3",
   "version": "3.8.3"
  }
 },
 "nbformat": 4,
 "nbformat_minor": 2
}
